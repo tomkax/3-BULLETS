{
  "nbformat": 4,
  "nbformat_minor": 0,
  "metadata": {
    "colab": {
      "provenance": [],
      "authorship_tag": "ABX9TyPBAXoDwIMLIm9B806AVdjZ",
      "include_colab_link": true
    },
    "kernelspec": {
      "name": "python3",
      "display_name": "Python 3"
    },
    "language_info": {
      "name": "python"
    }
  },
  "cells": [
    {
      "cell_type": "markdown",
      "metadata": {
        "id": "view-in-github",
        "colab_type": "text"
      },
      "source": [
        "<a href=\"https://colab.research.google.com/github/tomkax/3-BULLETS/blob/main/3_BULLETS.ipynb\" target=\"_parent\"><img src=\"https://colab.research.google.com/assets/colab-badge.svg\" alt=\"Open In Colab\"/></a>"
      ]
    },
    {
      "cell_type": "code",
      "source": [
        "!pip install chatterbot\n"
      ],
      "metadata": {
        "colab": {
          "base_uri": "https://localhost:8080/"
        },
        "id": "_uFPBpZQg4Sz",
        "outputId": "47b93fcb-03f5-444c-9b71-8cf61554eb66"
      },
      "execution_count": 32,
      "outputs": [
        {
          "output_type": "stream",
          "name": "stdout",
          "text": [
            "Looking in indexes: https://pypi.org/simple, https://us-python.pkg.dev/colab-wheels/public/simple/\n",
            "Requirement already satisfied: chatterbot in /usr/local/lib/python3.7/dist-packages (1.0.8)\n",
            "Requirement already satisfied: python-dateutil<2.9,>=2.8 in /usr/local/lib/python3.7/dist-packages (from chatterbot) (2.8.2)\n",
            "Requirement already satisfied: mathparse<0.2,>=0.1 in /usr/local/lib/python3.7/dist-packages (from chatterbot) (0.1.2)\n",
            "Requirement already satisfied: sqlalchemy<1.4,>=1.3 in /usr/local/lib/python3.7/dist-packages (from chatterbot) (1.3.24)\n",
            "Requirement already satisfied: pytz in /usr/local/lib/python3.7/dist-packages (from chatterbot) (2022.4)\n",
            "Requirement already satisfied: six>=1.5 in /usr/local/lib/python3.7/dist-packages (from python-dateutil<2.9,>=2.8->chatterbot) (1.15.0)\n"
          ]
        }
      ]
    },
    {
      "cell_type": "code",
      "source": [
        "# Importing chatterbot\n",
        "from chatterbot import ChatBot\n"
      ],
      "metadata": {
        "id": "OLEDiT8khEej"
      },
      "execution_count": 33,
      "outputs": []
    },
    {
      "cell_type": "code",
      "source": [
        "print(\"BOT: What do you want me to call you?\")\n",
        "user_name = input()"
      ],
      "metadata": {
        "colab": {
          "base_uri": "https://localhost:8080/"
        },
        "id": "ctyAoLelhmMG",
        "outputId": "13e822fa-baaa-424e-9024-18002dafaf0b"
      },
      "execution_count": 34,
      "outputs": [
        {
          "name": "stdout",
          "output_type": "stream",
          "text": [
            "BOT: What do you want me to call you?\n",
            "Behic\n"
          ]
        }
      ]
    },
    {
      "cell_type": "code",
      "source": [
        "name = \"Funny Bot\"\n",
        "weather = \"rainy\"\n",
        "mood = \"Happy\""
      ],
      "metadata": {
        "id": "lNlDRxtzoezc"
      },
      "execution_count": 35,
      "outputs": []
    },
    {
      "cell_type": "code",
      "source": [
        "bot_template = name + \" : {0}\"\n",
        "user_template = user_name + \" : {0}\""
      ],
      "metadata": {
        "id": "1vFjDVspiiCC"
      },
      "execution_count": 37,
      "outputs": []
    },
    {
      "cell_type": "code",
      "source": [
        "\n",
        "responses = {\n",
        " \n",
        "\"what's your name?\": [\n",
        "   \"They call me {0}\".format(name),\n",
        "   \"I usually go by {0}\".format(name),\n",
        "   \"My name is the {0}\".format(name)\n",
        "],\n",
        " \n",
        "\"what's today's weather?\": [\n",
        "    \"The weather is {0}\".format(weather),\n",
        "    \"It's {0} today\".format(weather),\n",
        "    \"Let me check, it looks {0} today\".format(weather)\n",
        "],\n",
        " \n",
        "\"Are you a robot?\": [\n",
        "    \"What do you think?\",\n",
        "    \"Maybe yes, maybe no!\",\n",
        "    \"Yes, I am a robot with human feelings.\",\n",
        "],\n",
        " \n",
        "\"how are you?\": [\n",
        "    \"I am feeling {0}\".format(mood),\n",
        "    \"{0}! How about you?\".format(mood),\n",
        "    \"I am {0}! How about yourself?\".format(mood),\n",
        "],\n",
        " \n",
        "\"\": [\n",
        "    \"Hey! Are you there?\",\n",
        "    \"What do you mean by saying nothing?\",\n",
        "    \"Sometimes saying nothing tells a lot :)\",\n",
        "],\n",
        " \n",
        "\"default\": [\"this is a default message\"]\n",
        " \n",
        "}"
      ],
      "metadata": {
        "id": "p77TVTO1itJ9"
      },
      "execution_count": 38,
      "outputs": []
    },
    {
      "cell_type": "code",
      "source": [
        "def respond(message):\n",
        "   if message in responses:\n",
        "      bot_message = random.choice(responses[message])\n",
        "   else:\n",
        "      bot_message = random.choice(responses[\"default\"])\n",
        "   return bot_message"
      ],
      "metadata": {
        "id": "i4wEAR6Hi2Ez"
      },
      "execution_count": 26,
      "outputs": []
    },
    {
      "cell_type": "code",
      "source": [
        "def related(x_text):\n",
        "   if \"name\" in x_text:\n",
        "      y_text = \"what's your name?\"\n",
        "   elif \"weather\" in x_text:\n",
        "      y_text = \"what's today's weather?\"\n",
        "   elif \"robot\" in x_text:\n",
        "      y_text = \"are you a robot?\"\n",
        "   elif \"how are\" in x_text:\n",
        "      y_text = \"how are you?\"\n",
        "   else:\n",
        "      y_text = \"\"\n",
        "   return y_text\n",
        "   "
      ],
      "metadata": {
        "id": "XSpHDGYIi5mI"
      },
      "execution_count": 27,
      "outputs": []
    },
    {
      "cell_type": "code",
      "source": [
        "import random"
      ],
      "metadata": {
        "id": "xFBFV6LOqI8J"
      },
      "execution_count": 39,
      "outputs": []
    },
    {
      "cell_type": "code",
      "source": [
        "def send_message(message):\n",
        "   print(user_template.format(message))\n",
        "   response = respond(message)\n",
        "   print(bot_template.format(response))"
      ],
      "metadata": {
        "id": "GlovbOULi_yd"
      },
      "execution_count": 28,
      "outputs": []
    },
    {
      "cell_type": "code",
      "source": [
        "while 1:\n",
        "   my_input = input()\n",
        "   my_input = my_input.lower()\n",
        "   related_text = related(my_input)\n",
        "   send_message(related_text)\n",
        "   if my_input == \"exit\" or my_input == \"stop\":\n",
        "      break"
      ],
      "metadata": {
        "colab": {
          "base_uri": "https://localhost:8080/"
        },
        "id": "Gb1MxvZijDiE",
        "outputId": "b52817b2-759f-4ac7-d7c9-f5e757ed98d1"
      },
      "execution_count": null,
      "outputs": [
        {
          "output_type": "stream",
          "name": "stdout",
          "text": [
            "how are you\n",
            "Behic : how are you?\n",
            "Funny Bot : Happy! How about you?\n",
            "Great! How is the weather outside?\n",
            "Behic : what's today's weather?\n",
            "Funny Bot : The weather is rainy\n",
            "weather today?\n",
            "Behic : what's today's weather?\n",
            "Funny Bot : Let me check, it looks rainy today\n",
            "what? is your name?\n",
            "Behic : what's your name?\n",
            "Funny Bot : My name is the Funny Bot\n"
          ]
        }
      ]
    },
    {
      "cell_type": "code",
      "source": [],
      "metadata": {
        "id": "NW6_OOmFjHi1"
      },
      "execution_count": null,
      "outputs": []
    }
  ]
}